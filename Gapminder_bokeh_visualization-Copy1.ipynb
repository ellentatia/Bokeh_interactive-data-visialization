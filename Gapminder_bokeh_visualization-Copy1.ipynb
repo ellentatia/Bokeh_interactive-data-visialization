{
 "cells": [
  {
   "cell_type": "markdown",
   "metadata": {},
   "source": [
    "# Building interactive data visualization with Bokeh\n"
   ]
  },
  {
   "cell_type": "markdown",
   "metadata": {},
   "source": [
    "* Data source: datacamp tidy data aquired from gapminder.\n",
    "    "
   ]
  },
  {
   "cell_type": "code",
   "execution_count": 28,
   "metadata": {},
   "outputs": [
    {
     "name": "stdout",
     "output_type": "stream",
     "text": [
      "          Country  fertility    life  population  child_mortality     gdp  \\\n",
      "Year                                                                        \n",
      "1964  Afghanistan      7.671  33.639  10474903.0            339.7  1182.0   \n",
      "1965  Afghanistan      7.671  34.152  10697983.0            334.1  1182.0   \n",
      "1966  Afghanistan      7.671  34.662  10927724.0            328.7  1168.0   \n",
      "1967  Afghanistan      7.671  35.170  11163656.0            323.3  1173.0   \n",
      "1968  Afghanistan      7.671  35.674  11411022.0            318.1  1187.0   \n",
      "\n",
      "          region  \n",
      "Year              \n",
      "1964  South Asia  \n",
      "1965  South Asia  \n",
      "1966  South Asia  \n",
      "1967  South Asia  \n",
      "1968  South Asia  \n"
     ]
    }
   ],
   "source": [
    "import pandas as pd\n",
    "\n",
    "data = pd.read_csv('https://assets.datacamp.com/production/repositories/401/datasets/09378cc53faec573bcb802dce03b01318108a880/gapminder_tidy.csv', index_col='Year')\n",
    "print(data.head())"
   ]
  },
  {
   "cell_type": "markdown",
   "metadata": {},
   "source": [
    "## EDA: "
   ]
  },
  {
   "cell_type": "code",
   "execution_count": 29,
   "metadata": {},
   "outputs": [
    {
     "name": "stdout",
     "output_type": "stream",
     "text": [
      "<class 'pandas.core.frame.DataFrame'>\n",
      "Int64Index: 10111 entries, 1964 to 2006\n",
      "Data columns (total 7 columns):\n",
      "Country            10111 non-null object\n",
      "fertility          10100 non-null float64\n",
      "life               10111 non-null float64\n",
      "population         10108 non-null float64\n",
      "child_mortality    9210 non-null float64\n",
      "gdp                9000 non-null float64\n",
      "region             10111 non-null object\n",
      "dtypes: float64(5), object(2)\n",
      "memory usage: 631.9+ KB\n"
     ]
    },
    {
     "data": {
      "text/plain": [
       "(10111, 7)"
      ]
     },
     "execution_count": 29,
     "metadata": {},
     "output_type": "execute_result"
    }
   ],
   "source": [
    "data.info()\n",
    "data.shape"
   ]
  },
  {
   "cell_type": "markdown",
   "metadata": {},
   "source": [
    "## Bokeh Application"
   ]
  },
  {
   "cell_type": "code",
   "execution_count": 30,
   "metadata": {},
   "outputs": [
    {
     "data": {
      "text/html": [
       "\n",
       "    <div class=\"bk-root\">\n",
       "        <a href=\"https://bokeh.pydata.org\" target=\"_blank\" class=\"bk-logo bk-logo-small bk-logo-notebook\"></a>\n",
       "        <span id=\"2711\">Loading BokehJS ...</span>\n",
       "    </div>"
      ]
     },
     "metadata": {},
     "output_type": "display_data"
    },
    {
     "data": {
      "application/javascript": [
       "\n",
       "(function(root) {\n",
       "  function now() {\n",
       "    return new Date();\n",
       "  }\n",
       "\n",
       "  var force = true;\n",
       "\n",
       "  if (typeof (root._bokeh_onload_callbacks) === \"undefined\" || force === true) {\n",
       "    root._bokeh_onload_callbacks = [];\n",
       "    root._bokeh_is_loading = undefined;\n",
       "  }\n",
       "\n",
       "  var JS_MIME_TYPE = 'application/javascript';\n",
       "  var HTML_MIME_TYPE = 'text/html';\n",
       "  var EXEC_MIME_TYPE = 'application/vnd.bokehjs_exec.v0+json';\n",
       "  var CLASS_NAME = 'output_bokeh rendered_html';\n",
       "\n",
       "  /**\n",
       "   * Render data to the DOM node\n",
       "   */\n",
       "  function render(props, node) {\n",
       "    var script = document.createElement(\"script\");\n",
       "    node.appendChild(script);\n",
       "  }\n",
       "\n",
       "  /**\n",
       "   * Handle when an output is cleared or removed\n",
       "   */\n",
       "  function handleClearOutput(event, handle) {\n",
       "    var cell = handle.cell;\n",
       "\n",
       "    var id = cell.output_area._bokeh_element_id;\n",
       "    var server_id = cell.output_area._bokeh_server_id;\n",
       "    // Clean up Bokeh references\n",
       "    if (id != null && id in Bokeh.index) {\n",
       "      Bokeh.index[id].model.document.clear();\n",
       "      delete Bokeh.index[id];\n",
       "    }\n",
       "\n",
       "    if (server_id !== undefined) {\n",
       "      // Clean up Bokeh references\n",
       "      var cmd = \"from bokeh.io.state import curstate; print(curstate().uuid_to_server['\" + server_id + \"'].get_sessions()[0].document.roots[0]._id)\";\n",
       "      cell.notebook.kernel.execute(cmd, {\n",
       "        iopub: {\n",
       "          output: function(msg) {\n",
       "            var id = msg.content.text.trim();\n",
       "            if (id in Bokeh.index) {\n",
       "              Bokeh.index[id].model.document.clear();\n",
       "              delete Bokeh.index[id];\n",
       "            }\n",
       "          }\n",
       "        }\n",
       "      });\n",
       "      // Destroy server and session\n",
       "      var cmd = \"import bokeh.io.notebook as ion; ion.destroy_server('\" + server_id + \"')\";\n",
       "      cell.notebook.kernel.execute(cmd);\n",
       "    }\n",
       "  }\n",
       "\n",
       "  /**\n",
       "   * Handle when a new output is added\n",
       "   */\n",
       "  function handleAddOutput(event, handle) {\n",
       "    var output_area = handle.output_area;\n",
       "    var output = handle.output;\n",
       "\n",
       "    // limit handleAddOutput to display_data with EXEC_MIME_TYPE content only\n",
       "    if ((output.output_type != \"display_data\") || (!output.data.hasOwnProperty(EXEC_MIME_TYPE))) {\n",
       "      return\n",
       "    }\n",
       "\n",
       "    var toinsert = output_area.element.find(\".\" + CLASS_NAME.split(' ')[0]);\n",
       "\n",
       "    if (output.metadata[EXEC_MIME_TYPE][\"id\"] !== undefined) {\n",
       "      toinsert[toinsert.length - 1].firstChild.textContent = output.data[JS_MIME_TYPE];\n",
       "      // store reference to embed id on output_area\n",
       "      output_area._bokeh_element_id = output.metadata[EXEC_MIME_TYPE][\"id\"];\n",
       "    }\n",
       "    if (output.metadata[EXEC_MIME_TYPE][\"server_id\"] !== undefined) {\n",
       "      var bk_div = document.createElement(\"div\");\n",
       "      bk_div.innerHTML = output.data[HTML_MIME_TYPE];\n",
       "      var script_attrs = bk_div.children[0].attributes;\n",
       "      for (var i = 0; i < script_attrs.length; i++) {\n",
       "        toinsert[toinsert.length - 1].firstChild.setAttribute(script_attrs[i].name, script_attrs[i].value);\n",
       "      }\n",
       "      // store reference to server id on output_area\n",
       "      output_area._bokeh_server_id = output.metadata[EXEC_MIME_TYPE][\"server_id\"];\n",
       "    }\n",
       "  }\n",
       "\n",
       "  function register_renderer(events, OutputArea) {\n",
       "\n",
       "    function append_mime(data, metadata, element) {\n",
       "      // create a DOM node to render to\n",
       "      var toinsert = this.create_output_subarea(\n",
       "        metadata,\n",
       "        CLASS_NAME,\n",
       "        EXEC_MIME_TYPE\n",
       "      );\n",
       "      this.keyboard_manager.register_events(toinsert);\n",
       "      // Render to node\n",
       "      var props = {data: data, metadata: metadata[EXEC_MIME_TYPE]};\n",
       "      render(props, toinsert[toinsert.length - 1]);\n",
       "      element.append(toinsert);\n",
       "      return toinsert\n",
       "    }\n",
       "\n",
       "    /* Handle when an output is cleared or removed */\n",
       "    events.on('clear_output.CodeCell', handleClearOutput);\n",
       "    events.on('delete.Cell', handleClearOutput);\n",
       "\n",
       "    /* Handle when a new output is added */\n",
       "    events.on('output_added.OutputArea', handleAddOutput);\n",
       "\n",
       "    /**\n",
       "     * Register the mime type and append_mime function with output_area\n",
       "     */\n",
       "    OutputArea.prototype.register_mime_type(EXEC_MIME_TYPE, append_mime, {\n",
       "      /* Is output safe? */\n",
       "      safe: true,\n",
       "      /* Index of renderer in `output_area.display_order` */\n",
       "      index: 0\n",
       "    });\n",
       "  }\n",
       "\n",
       "  // register the mime type if in Jupyter Notebook environment and previously unregistered\n",
       "  if (root.Jupyter !== undefined) {\n",
       "    var events = require('base/js/events');\n",
       "    var OutputArea = require('notebook/js/outputarea').OutputArea;\n",
       "\n",
       "    if (OutputArea.prototype.mime_types().indexOf(EXEC_MIME_TYPE) == -1) {\n",
       "      register_renderer(events, OutputArea);\n",
       "    }\n",
       "  }\n",
       "\n",
       "  \n",
       "  if (typeof (root._bokeh_timeout) === \"undefined\" || force === true) {\n",
       "    root._bokeh_timeout = Date.now() + 5000;\n",
       "    root._bokeh_failed_load = false;\n",
       "  }\n",
       "\n",
       "  var NB_LOAD_WARNING = {'data': {'text/html':\n",
       "     \"<div style='background-color: #fdd'>\\n\"+\n",
       "     \"<p>\\n\"+\n",
       "     \"BokehJS does not appear to have successfully loaded. If loading BokehJS from CDN, this \\n\"+\n",
       "     \"may be due to a slow or bad network connection. Possible fixes:\\n\"+\n",
       "     \"</p>\\n\"+\n",
       "     \"<ul>\\n\"+\n",
       "     \"<li>re-rerun `output_notebook()` to attempt to load from CDN again, or</li>\\n\"+\n",
       "     \"<li>use INLINE resources instead, as so:</li>\\n\"+\n",
       "     \"</ul>\\n\"+\n",
       "     \"<code>\\n\"+\n",
       "     \"from bokeh.resources import INLINE\\n\"+\n",
       "     \"output_notebook(resources=INLINE)\\n\"+\n",
       "     \"</code>\\n\"+\n",
       "     \"</div>\"}};\n",
       "\n",
       "  function display_loaded() {\n",
       "    var el = document.getElementById(\"2711\");\n",
       "    if (el != null) {\n",
       "      el.textContent = \"BokehJS is loading...\";\n",
       "    }\n",
       "    if (root.Bokeh !== undefined) {\n",
       "      if (el != null) {\n",
       "        el.textContent = \"BokehJS \" + root.Bokeh.version + \" successfully loaded.\";\n",
       "      }\n",
       "    } else if (Date.now() < root._bokeh_timeout) {\n",
       "      setTimeout(display_loaded, 100)\n",
       "    }\n",
       "  }\n",
       "\n",
       "\n",
       "  function run_callbacks() {\n",
       "    try {\n",
       "      root._bokeh_onload_callbacks.forEach(function(callback) { callback() });\n",
       "    }\n",
       "    finally {\n",
       "      delete root._bokeh_onload_callbacks\n",
       "    }\n",
       "    console.info(\"Bokeh: all callbacks have finished\");\n",
       "  }\n",
       "\n",
       "  function load_libs(js_urls, callback) {\n",
       "    root._bokeh_onload_callbacks.push(callback);\n",
       "    if (root._bokeh_is_loading > 0) {\n",
       "      console.log(\"Bokeh: BokehJS is being loaded, scheduling callback at\", now());\n",
       "      return null;\n",
       "    }\n",
       "    if (js_urls == null || js_urls.length === 0) {\n",
       "      run_callbacks();\n",
       "      return null;\n",
       "    }\n",
       "    console.log(\"Bokeh: BokehJS not loaded, scheduling load and callback at\", now());\n",
       "    root._bokeh_is_loading = js_urls.length;\n",
       "    for (var i = 0; i < js_urls.length; i++) {\n",
       "      var url = js_urls[i];\n",
       "      var s = document.createElement('script');\n",
       "      s.src = url;\n",
       "      s.async = false;\n",
       "      s.onreadystatechange = s.onload = function() {\n",
       "        root._bokeh_is_loading--;\n",
       "        if (root._bokeh_is_loading === 0) {\n",
       "          console.log(\"Bokeh: all BokehJS libraries loaded\");\n",
       "          run_callbacks()\n",
       "        }\n",
       "      };\n",
       "      s.onerror = function() {\n",
       "        console.warn(\"failed to load library \" + url);\n",
       "      };\n",
       "      console.log(\"Bokeh: injecting script tag for BokehJS library: \", url);\n",
       "      document.getElementsByTagName(\"head\")[0].appendChild(s);\n",
       "    }\n",
       "  };var element = document.getElementById(\"2711\");\n",
       "  if (element == null) {\n",
       "    console.log(\"Bokeh: ERROR: autoload.js configured with elementid '2711' but no matching script tag was found. \")\n",
       "    return false;\n",
       "  }\n",
       "\n",
       "  var js_urls = [\"https://cdn.pydata.org/bokeh/release/bokeh-1.0.2.min.js\", \"https://cdn.pydata.org/bokeh/release/bokeh-widgets-1.0.2.min.js\", \"https://cdn.pydata.org/bokeh/release/bokeh-tables-1.0.2.min.js\", \"https://cdn.pydata.org/bokeh/release/bokeh-gl-1.0.2.min.js\"];\n",
       "\n",
       "  var inline_js = [\n",
       "    function(Bokeh) {\n",
       "      Bokeh.set_log_level(\"info\");\n",
       "    },\n",
       "    \n",
       "    function(Bokeh) {\n",
       "      \n",
       "    },\n",
       "    function(Bokeh) {\n",
       "      console.log(\"Bokeh: injecting CSS: https://cdn.pydata.org/bokeh/release/bokeh-1.0.2.min.css\");\n",
       "      Bokeh.embed.inject_css(\"https://cdn.pydata.org/bokeh/release/bokeh-1.0.2.min.css\");\n",
       "      console.log(\"Bokeh: injecting CSS: https://cdn.pydata.org/bokeh/release/bokeh-widgets-1.0.2.min.css\");\n",
       "      Bokeh.embed.inject_css(\"https://cdn.pydata.org/bokeh/release/bokeh-widgets-1.0.2.min.css\");\n",
       "      console.log(\"Bokeh: injecting CSS: https://cdn.pydata.org/bokeh/release/bokeh-tables-1.0.2.min.css\");\n",
       "      Bokeh.embed.inject_css(\"https://cdn.pydata.org/bokeh/release/bokeh-tables-1.0.2.min.css\");\n",
       "    }\n",
       "  ];\n",
       "\n",
       "  function run_inline_js() {\n",
       "    \n",
       "    if ((root.Bokeh !== undefined) || (force === true)) {\n",
       "      for (var i = 0; i < inline_js.length; i++) {\n",
       "        inline_js[i].call(root, root.Bokeh);\n",
       "      }if (force === true) {\n",
       "        display_loaded();\n",
       "      }} else if (Date.now() < root._bokeh_timeout) {\n",
       "      setTimeout(run_inline_js, 100);\n",
       "    } else if (!root._bokeh_failed_load) {\n",
       "      console.log(\"Bokeh: BokehJS failed to load within specified timeout.\");\n",
       "      root._bokeh_failed_load = true;\n",
       "    } else if (force !== true) {\n",
       "      var cell = $(document.getElementById(\"2711\")).parents('.cell').data().cell;\n",
       "      cell.output_area.append_execute_result(NB_LOAD_WARNING)\n",
       "    }\n",
       "\n",
       "  }\n",
       "\n",
       "  if (root._bokeh_is_loading === 0) {\n",
       "    console.log(\"Bokeh: BokehJS loaded, going straight to plotting\");\n",
       "    run_inline_js();\n",
       "  } else {\n",
       "    load_libs(js_urls, function() {\n",
       "      console.log(\"Bokeh: BokehJS plotting callback run at\", now());\n",
       "      run_inline_js();\n",
       "    });\n",
       "  }\n",
       "}(window));"
      ],
      "application/vnd.bokehjs_load.v0+json": "\n(function(root) {\n  function now() {\n    return new Date();\n  }\n\n  var force = true;\n\n  if (typeof (root._bokeh_onload_callbacks) === \"undefined\" || force === true) {\n    root._bokeh_onload_callbacks = [];\n    root._bokeh_is_loading = undefined;\n  }\n\n  \n\n  \n  if (typeof (root._bokeh_timeout) === \"undefined\" || force === true) {\n    root._bokeh_timeout = Date.now() + 5000;\n    root._bokeh_failed_load = false;\n  }\n\n  var NB_LOAD_WARNING = {'data': {'text/html':\n     \"<div style='background-color: #fdd'>\\n\"+\n     \"<p>\\n\"+\n     \"BokehJS does not appear to have successfully loaded. If loading BokehJS from CDN, this \\n\"+\n     \"may be due to a slow or bad network connection. Possible fixes:\\n\"+\n     \"</p>\\n\"+\n     \"<ul>\\n\"+\n     \"<li>re-rerun `output_notebook()` to attempt to load from CDN again, or</li>\\n\"+\n     \"<li>use INLINE resources instead, as so:</li>\\n\"+\n     \"</ul>\\n\"+\n     \"<code>\\n\"+\n     \"from bokeh.resources import INLINE\\n\"+\n     \"output_notebook(resources=INLINE)\\n\"+\n     \"</code>\\n\"+\n     \"</div>\"}};\n\n  function display_loaded() {\n    var el = document.getElementById(\"2711\");\n    if (el != null) {\n      el.textContent = \"BokehJS is loading...\";\n    }\n    if (root.Bokeh !== undefined) {\n      if (el != null) {\n        el.textContent = \"BokehJS \" + root.Bokeh.version + \" successfully loaded.\";\n      }\n    } else if (Date.now() < root._bokeh_timeout) {\n      setTimeout(display_loaded, 100)\n    }\n  }\n\n\n  function run_callbacks() {\n    try {\n      root._bokeh_onload_callbacks.forEach(function(callback) { callback() });\n    }\n    finally {\n      delete root._bokeh_onload_callbacks\n    }\n    console.info(\"Bokeh: all callbacks have finished\");\n  }\n\n  function load_libs(js_urls, callback) {\n    root._bokeh_onload_callbacks.push(callback);\n    if (root._bokeh_is_loading > 0) {\n      console.log(\"Bokeh: BokehJS is being loaded, scheduling callback at\", now());\n      return null;\n    }\n    if (js_urls == null || js_urls.length === 0) {\n      run_callbacks();\n      return null;\n    }\n    console.log(\"Bokeh: BokehJS not loaded, scheduling load and callback at\", now());\n    root._bokeh_is_loading = js_urls.length;\n    for (var i = 0; i < js_urls.length; i++) {\n      var url = js_urls[i];\n      var s = document.createElement('script');\n      s.src = url;\n      s.async = false;\n      s.onreadystatechange = s.onload = function() {\n        root._bokeh_is_loading--;\n        if (root._bokeh_is_loading === 0) {\n          console.log(\"Bokeh: all BokehJS libraries loaded\");\n          run_callbacks()\n        }\n      };\n      s.onerror = function() {\n        console.warn(\"failed to load library \" + url);\n      };\n      console.log(\"Bokeh: injecting script tag for BokehJS library: \", url);\n      document.getElementsByTagName(\"head\")[0].appendChild(s);\n    }\n  };var element = document.getElementById(\"2711\");\n  if (element == null) {\n    console.log(\"Bokeh: ERROR: autoload.js configured with elementid '2711' but no matching script tag was found. \")\n    return false;\n  }\n\n  var js_urls = [\"https://cdn.pydata.org/bokeh/release/bokeh-1.0.2.min.js\", \"https://cdn.pydata.org/bokeh/release/bokeh-widgets-1.0.2.min.js\", \"https://cdn.pydata.org/bokeh/release/bokeh-tables-1.0.2.min.js\", \"https://cdn.pydata.org/bokeh/release/bokeh-gl-1.0.2.min.js\"];\n\n  var inline_js = [\n    function(Bokeh) {\n      Bokeh.set_log_level(\"info\");\n    },\n    \n    function(Bokeh) {\n      \n    },\n    function(Bokeh) {\n      console.log(\"Bokeh: injecting CSS: https://cdn.pydata.org/bokeh/release/bokeh-1.0.2.min.css\");\n      Bokeh.embed.inject_css(\"https://cdn.pydata.org/bokeh/release/bokeh-1.0.2.min.css\");\n      console.log(\"Bokeh: injecting CSS: https://cdn.pydata.org/bokeh/release/bokeh-widgets-1.0.2.min.css\");\n      Bokeh.embed.inject_css(\"https://cdn.pydata.org/bokeh/release/bokeh-widgets-1.0.2.min.css\");\n      console.log(\"Bokeh: injecting CSS: https://cdn.pydata.org/bokeh/release/bokeh-tables-1.0.2.min.css\");\n      Bokeh.embed.inject_css(\"https://cdn.pydata.org/bokeh/release/bokeh-tables-1.0.2.min.css\");\n    }\n  ];\n\n  function run_inline_js() {\n    \n    if ((root.Bokeh !== undefined) || (force === true)) {\n      for (var i = 0; i < inline_js.length; i++) {\n        inline_js[i].call(root, root.Bokeh);\n      }if (force === true) {\n        display_loaded();\n      }} else if (Date.now() < root._bokeh_timeout) {\n      setTimeout(run_inline_js, 100);\n    } else if (!root._bokeh_failed_load) {\n      console.log(\"Bokeh: BokehJS failed to load within specified timeout.\");\n      root._bokeh_failed_load = true;\n    } else if (force !== true) {\n      var cell = $(document.getElementById(\"2711\")).parents('.cell').data().cell;\n      cell.output_area.append_execute_result(NB_LOAD_WARNING)\n    }\n\n  }\n\n  if (root._bokeh_is_loading === 0) {\n    console.log(\"Bokeh: BokehJS loaded, going straight to plotting\");\n    run_inline_js();\n  } else {\n    load_libs(js_urls, function() {\n      console.log(\"Bokeh: BokehJS plotting callback run at\", now());\n      run_inline_js();\n    });\n  }\n}(window));"
     },
     "metadata": {},
     "output_type": "display_data"
    }
   ],
   "source": [
    "from bokeh.io import output_notebook, push_notebook, show\n",
    "import numpy as np\n",
    "from bokeh.plotting import figure\n",
    "from bokeh.models import HoverTool, ColumnDataSource\n",
    "\n",
    "output_notebook()"
   ]
  },
  {
   "cell_type": "code",
   "execution_count": 31,
   "metadata": {},
   "outputs": [
    {
     "data": {
      "text/html": [
       "<div style=\"display: table;\"><div style=\"display: table-row;\"><div style=\"display: table-cell;\"><b title=\"bokeh.models.renderers.GlyphRenderer\">GlyphRenderer</b>(</div><div style=\"display: table-cell;\">id&nbsp;=&nbsp;'2740', <span id=\"2743\" style=\"cursor: pointer;\">&hellip;)</span></div></div><div class=\"2742\" style=\"display: none;\"><div style=\"display: table-cell;\"></div><div style=\"display: table-cell;\">data_source&nbsp;=&nbsp;ColumnDataSource(id='2712', ...),</div></div><div class=\"2742\" style=\"display: none;\"><div style=\"display: table-cell;\"></div><div style=\"display: table-cell;\">glyph&nbsp;=&nbsp;Circle(id='2738', ...),</div></div><div class=\"2742\" style=\"display: none;\"><div style=\"display: table-cell;\"></div><div style=\"display: table-cell;\">hover_glyph&nbsp;=&nbsp;None,</div></div><div class=\"2742\" style=\"display: none;\"><div style=\"display: table-cell;\"></div><div style=\"display: table-cell;\">js_event_callbacks&nbsp;=&nbsp;{},</div></div><div class=\"2742\" style=\"display: none;\"><div style=\"display: table-cell;\"></div><div style=\"display: table-cell;\">js_property_callbacks&nbsp;=&nbsp;{},</div></div><div class=\"2742\" style=\"display: none;\"><div style=\"display: table-cell;\"></div><div style=\"display: table-cell;\">level&nbsp;=&nbsp;'glyph',</div></div><div class=\"2742\" style=\"display: none;\"><div style=\"display: table-cell;\"></div><div style=\"display: table-cell;\">muted&nbsp;=&nbsp;False,</div></div><div class=\"2742\" style=\"display: none;\"><div style=\"display: table-cell;\"></div><div style=\"display: table-cell;\">muted_glyph&nbsp;=&nbsp;None,</div></div><div class=\"2742\" style=\"display: none;\"><div style=\"display: table-cell;\"></div><div style=\"display: table-cell;\">name&nbsp;=&nbsp;None,</div></div><div class=\"2742\" style=\"display: none;\"><div style=\"display: table-cell;\"></div><div style=\"display: table-cell;\">nonselection_glyph&nbsp;=&nbsp;Circle(id='2739', ...),</div></div><div class=\"2742\" style=\"display: none;\"><div style=\"display: table-cell;\"></div><div style=\"display: table-cell;\">selection_glyph&nbsp;=&nbsp;None,</div></div><div class=\"2742\" style=\"display: none;\"><div style=\"display: table-cell;\"></div><div style=\"display: table-cell;\">subscribed_events&nbsp;=&nbsp;[],</div></div><div class=\"2742\" style=\"display: none;\"><div style=\"display: table-cell;\"></div><div style=\"display: table-cell;\">tags&nbsp;=&nbsp;[],</div></div><div class=\"2742\" style=\"display: none;\"><div style=\"display: table-cell;\"></div><div style=\"display: table-cell;\">view&nbsp;=&nbsp;CDSView(id='2741', ...),</div></div><div class=\"2742\" style=\"display: none;\"><div style=\"display: table-cell;\"></div><div style=\"display: table-cell;\">visible&nbsp;=&nbsp;True,</div></div><div class=\"2742\" style=\"display: none;\"><div style=\"display: table-cell;\"></div><div style=\"display: table-cell;\">x_range_name&nbsp;=&nbsp;'default',</div></div><div class=\"2742\" style=\"display: none;\"><div style=\"display: table-cell;\"></div><div style=\"display: table-cell;\">y_range_name&nbsp;=&nbsp;'default')</div></div></div>\n",
       "<script>\n",
       "(function() {\n",
       "  var expanded = false;\n",
       "  var ellipsis = document.getElementById(\"2743\");\n",
       "  ellipsis.addEventListener(\"click\", function() {\n",
       "    var rows = document.getElementsByClassName(\"2742\");\n",
       "    for (var i = 0; i < rows.length; i++) {\n",
       "      var el = rows[i];\n",
       "      el.style.display = expanded ? \"none\" : \"table-row\";\n",
       "    }\n",
       "    ellipsis.innerHTML = expanded ? \"&hellip;)\" : \"&lsaquo;&lsaquo;&lsaquo;\";\n",
       "    expanded = !expanded;\n",
       "  });\n",
       "})();\n",
       "</script>\n"
      ],
      "text/plain": [
       "GlyphRenderer(id='2740', ...)"
      ]
     },
     "execution_count": 31,
     "metadata": {},
     "output_type": "execute_result"
    }
   ],
   "source": [
    "source = ColumnDataSource(data={'x':data.loc[1970].fertility, 'y':data.loc[1970].life,'country':data.loc[1970].Country})\n",
    "\n",
    "p = figure(title='1970', x_axis_label='Fertility (children per woman)', y_axis_label='Life Expectancy (years)',\n",
    "           plot_height=300, plot_width=500,\n",
    "           tools=[HoverTool(tooltips='@country')])\n",
    "\n",
    "p.circle(x='x', y='y', source=source)\n",
    "\n",
    "#show(p)"
   ]
  },
  {
   "cell_type": "markdown",
   "metadata": {},
   "source": [
    "## jupyter interaction"
   ]
  },
  {
   "cell_type": "code",
   "execution_count": 39,
   "metadata": {},
   "outputs": [],
   "source": [
    "from ipywidgets import interact\n",
    "#import numpy as np\n",
    "\n",
    "#from bokeh.io import push_notebook, show, output_notebook\n",
    "#from bokeh.plotting import figure"
   ]
  },
  {
   "cell_type": "markdown",
   "metadata": {},
   "source": [
    "## Starting the App"
   ]
  },
  {
   "cell_type": "code",
   "execution_count": 33,
   "metadata": {},
   "outputs": [],
   "source": [
    "from bokeh.io import curdoc\n",
    "from bokeh.models import ColumnDataSource\n",
    "from bokeh.plotting import figure, curdoc\n",
    "\n",
    "\n",
    "\n",
    "source = ColumnDataSource(data={'x': data.loc[1970].fertility, 'y':data.loc[1970].life, \n",
    "                                 'country': data.loc[1970].Country, 'pop': (data.loc[1970].population/20000000)+2, \n",
    "                                 'region': data.loc[1970].region,})\n",
    " \n",
    "                      \n",
    "xmin,xmax=min(data.fertility),max(data.fertility)\n",
    "ymin,ymax=min(data.life), max(data.life)\n",
    "\n",
    "plot=figure(title='Gapminder Data for 1970', plot_height=500, plot_width=700, x_range=(xmin,xmax),y_range=(ymin,ymax))\n",
    "\n",
    "plot.circle(x='x',y='y',fill_alpha = 0.8, source=source)\n",
    "\n",
    "plot.xaxis.axis_label='Fertility (children per woman)'\n",
    "plot.yaxis.axis_label='Life Expectancy(years)'\n",
    "\n",
    "#curdoc().add_root(plot)\n",
    "#curdoc().title='Gapminder'\n",
    "\n"
   ]
  },
  {
   "cell_type": "markdown",
   "metadata": {},
   "source": [
    "## Enhancing the plot with some shading"
   ]
  },
  {
   "cell_type": "code",
   "execution_count": 34,
   "metadata": {},
   "outputs": [],
   "source": [
    "# Make a list of unique values from the region column \n",
    "\n",
    "region_list=data.region.unique().tolist()\n",
    "\n",
    "from bokeh.models import CategoricalColorMapper\n",
    "from bokeh.palettes import Spectral6\n",
    "\n",
    "color_mapper = CategoricalColorMapper(factors=region_list, palette= Spectral6)\n",
    "plot.circle(x='x',y='y', fill_alpha=0.8, source=source, color=dict(field='region',transform=color_mapper), legend='region')\n",
    "\n",
    "plot.legend.location='top_right'\n",
    "\n",
    "#Add plot to current document and add titlle\n",
    "\n",
    "#curdoc().add_root(plot)\n",
    "#curdoc().tittle='Gapminder'\n",
    "#show(plot)"
   ]
  },
  {
   "cell_type": "markdown",
   "metadata": {},
   "source": [
    "## Add Slider to vary the year"
   ]
  },
  {
   "cell_type": "markdown",
   "metadata": {
    "scrolled": true
   },
   "source": [
    "* Add the slider to the plot to change the year being plotted to create an updated plot() function \n",
    "and associate it with the slide to selct values from 1970 to 2010\n",
    "\n"
   ]
  },
  {
   "cell_type": "markdown",
   "metadata": {},
   "source": [
    "## Customizing based on user input"
   ]
  },
  {
   "cell_type": "code",
   "execution_count": 35,
   "metadata": {},
   "outputs": [],
   "source": [
    "# Import the necessary modules\n",
    "from bokeh.layouts import widgetbox , row\n",
    "from bokeh.models import Slider\n",
    "\n",
    "# Define the callback function: update_plot\n",
    "def update_plot(attr, old, new):\n",
    "    # Assign the value of the slider: yr\n",
    "    yr = slider.value\n",
    "    # Set new_data\n",
    "    new_data = {\n",
    "        'x'       : data.loc[yr].fertility,\n",
    "        'y'       : data.loc[yr].life,\n",
    "        'country' : data.loc[yr].Country,\n",
    "        'pop'     : (data.loc[yr].population / 20000000) + 2,\n",
    "        'region'  : data.loc[yr].region,\n",
    "    }\n",
    "    # Assign new_data to: source.data\n",
    "    source.data = new_data\n",
    "    \n",
    "    # Add title to figure: plot.title.text\n",
    "    plot.title.text = 'Gapminder data for %d' % yr\n",
    "\n",
    "# Make a slider object: slider\n",
    "slider = Slider(title='Year', start=1970, end=2010, step=1, value=1970)\n",
    "\n",
    "# Attach the callback to the 'value' property of slider\n",
    "slider.on_change('value',update_plot)\n",
    "\n",
    "# Make a row layout of widgetbox(slider) and plot and add it to the current document\n",
    "layout = row(widgetbox(slider), plot)\n",
    "#curdoc().add_root(layout)\n",
    "\n",
    "#show(layout)\n",
    "    "
   ]
  },
  {
   "cell_type": "markdown",
   "metadata": {},
   "source": [
    "# Adding a Hover Tool\n"
   ]
  },
  {
   "cell_type": "code",
   "execution_count": 36,
   "metadata": {},
   "outputs": [],
   "source": [
    "from bokeh.models import HoverTool\n",
    "\n",
    "hover=HoverTool(tooltips=[('Country','@country')])\n",
    "plot.add_tools(hover)\n",
    "layout=row(widgetbox(slider),plot)\n",
    "#curdoc().add_root(layout)"
   ]
  },
  {
   "cell_type": "markdown",
   "metadata": {},
   "source": [
    "# Adding drop down to the app"
   ]
  },
  {
   "cell_type": "code",
   "execution_count": 41,
   "metadata": {},
   "outputs": [
    {
     "name": "stderr",
     "output_type": "stream",
     "text": [
      "WARNING:bokeh.embed.util:\n",
      "You are generating standalone HTML/JS output, but trying to use real Python\n",
      "callbacks (i.e. with on_change or on_event). This combination cannot work.\n",
      "\n",
      "Only JavaScript callbacks may be used with standalone output. For more\n",
      "information on JavaScript callbacks with Bokeh, see:\n",
      "\n",
      "    http://bokeh.pydata.org/en/latest/docs/user_guide/interaction/callbacks.html\n",
      "\n",
      "Alternatively, to use real Python callbacks, a Bokeh server application may\n",
      "be used. For more information on building and running Bokeh applications, see:\n",
      "\n",
      "    http://bokeh.pydata.org/en/latest/docs/user_guide/server.html\n",
      "\n"
     ]
    },
    {
     "data": {
      "text/html": [
       "\n",
       "\n",
       "\n",
       "\n",
       "\n",
       "\n",
       "  <div class=\"bk-root\" id=\"19c17754-8017-4375-ae9b-1030236961eb\"></div>\n"
      ]
     },
     "metadata": {},
     "output_type": "display_data"
    },
    {
     "data": {
      "application/javascript": [
       "(function(root) {\n",
       "  function embed_document(root) {\n",
       "    \n",
       "  var docs_json = {\"3725fadc-d240-4ba8-a8b3-b1de7bee5c50\":{\"roots\":{\"references\":[{\"attributes\":{\"children\":[{\"id\":\"3306\",\"type\":\"WidgetBox\"},{\"id\":\"2746\",\"subtype\":\"Figure\",\"type\":\"Plot\"}]},\"id\":\"3307\",\"type\":\"Row\"},{\"attributes\":{\"source\":{\"id\":\"2744\",\"type\":\"ColumnDataSource\"}},\"id\":\"2785\",\"type\":\"CDSView\"},{\"attributes\":{\"axis_label\":\"Fertility (children per woman)\",\"formatter\":{\"id\":\"2794\",\"type\":\"BasicTickFormatter\"},\"plot\":{\"id\":\"2746\",\"subtype\":\"Figure\",\"type\":\"Plot\"},\"ticker\":{\"id\":\"2757\",\"type\":\"BasicTicker\"}},\"id\":\"2756\",\"type\":\"LinearAxis\"},{\"attributes\":{\"factors\":[\"South Asia\",\"Europe & Central Asia\",\"Middle East & North Africa\",\"Sub-Saharan Africa\",\"America\",\"East Asia & Pacific\"],\"palette\":[\"#3288bd\",\"#99d594\",\"#e6f598\",\"#fee08b\",\"#fc8d59\",\"#d53e4f\"]},\"id\":\"2786\",\"type\":\"CategoricalColorMapper\"},{\"attributes\":{},\"id\":\"2757\",\"type\":\"BasicTicker\"},{\"attributes\":{\"callback\":null,\"options\":[\"fertility\",\"life\",\"child_mortality\",\"gdp\"],\"title\":\"x_axisdata\",\"value\":\"fertility\"},\"id\":\"3304\",\"type\":\"Select\"},{\"attributes\":{\"fill_alpha\":{\"value\":0.8},\"fill_color\":{\"field\":\"region\",\"transform\":{\"id\":\"2786\",\"type\":\"CategoricalColorMapper\"}},\"line_color\":{\"field\":\"region\",\"transform\":{\"id\":\"2786\",\"type\":\"CategoricalColorMapper\"}},\"x\":{\"field\":\"x\"},\"y\":{\"field\":\"y\"}},\"id\":\"2788\",\"type\":\"Circle\"},{\"attributes\":{},\"id\":\"2797\",\"type\":\"UnionRenderers\"},{\"attributes\":{\"callback\":null,\"end\":2010,\"start\":1970,\"title\":\"Year\",\"value\":1970},\"id\":\"3303\",\"type\":\"Slider\"},{\"attributes\":{\"plot\":{\"id\":\"2746\",\"subtype\":\"Figure\",\"type\":\"Plot\"},\"ticker\":{\"id\":\"2757\",\"type\":\"BasicTicker\"}},\"id\":\"2760\",\"type\":\"Grid\"},{\"attributes\":{\"items\":[{\"id\":\"2801\",\"type\":\"LegendItem\"}],\"plot\":{\"id\":\"2746\",\"subtype\":\"Figure\",\"type\":\"Plot\"}},\"id\":\"2800\",\"type\":\"Legend\"},{\"attributes\":{\"source\":{\"id\":\"2744\",\"type\":\"ColumnDataSource\"}},\"id\":\"2791\",\"type\":\"CDSView\"},{\"attributes\":{\"axis_label\":\"Life Expectancy(years)\",\"formatter\":{\"id\":\"2796\",\"type\":\"BasicTickFormatter\"},\"plot\":{\"id\":\"2746\",\"subtype\":\"Figure\",\"type\":\"Plot\"},\"ticker\":{\"id\":\"2762\",\"type\":\"BasicTicker\"}},\"id\":\"2761\",\"type\":\"LinearAxis\"},{\"attributes\":{},\"id\":\"2798\",\"type\":\"Selection\"},{\"attributes\":{},\"id\":\"2762\",\"type\":\"BasicTicker\"},{\"attributes\":{\"callback\":null,\"options\":[\"fertility\",\"life\",\"child_mortality\",\"gdp\"],\"title\":\"y_axisdata\",\"value\":\"fertility\"},\"id\":\"3305\",\"type\":\"Select\"},{\"attributes\":{\"fill_alpha\":{\"value\":0.1},\"fill_color\":{\"value\":\"#1f77b4\"},\"line_alpha\":{\"value\":0.1},\"line_color\":{\"value\":\"#1f77b4\"},\"x\":{\"field\":\"x\"},\"y\":{\"field\":\"y\"}},\"id\":\"2789\",\"type\":\"Circle\"},{\"attributes\":{\"dimension\":1,\"plot\":{\"id\":\"2746\",\"subtype\":\"Figure\",\"type\":\"Plot\"},\"ticker\":{\"id\":\"2762\",\"type\":\"BasicTicker\"}},\"id\":\"2765\",\"type\":\"Grid\"},{\"attributes\":{\"label\":{\"field\":\"region\"},\"renderers\":[{\"id\":\"2790\",\"type\":\"GlyphRenderer\"}]},\"id\":\"2801\",\"type\":\"LegendItem\"},{\"attributes\":{\"callback\":null,\"tooltips\":[[\"Country\",\"@country\"]]},\"id\":\"2805\",\"type\":\"HoverTool\"},{\"attributes\":{\"fill_alpha\":{\"value\":0.8},\"fill_color\":{\"value\":\"#1f77b4\"},\"line_color\":{\"value\":\"#1f77b4\"},\"x\":{\"field\":\"x\"},\"y\":{\"field\":\"y\"}},\"id\":\"2782\",\"type\":\"Circle\"},{\"attributes\":{\"callback\":null,\"end\":9.223,\"start\":0.836},\"id\":\"2748\",\"type\":\"Range1d\"},{\"attributes\":{\"children\":[{\"id\":\"3303\",\"type\":\"Slider\"},{\"id\":\"3304\",\"type\":\"Select\"},{\"id\":\"3305\",\"type\":\"Select\"}]},\"id\":\"3306\",\"type\":\"WidgetBox\"},{\"attributes\":{\"data_source\":{\"id\":\"2744\",\"type\":\"ColumnDataSource\"},\"glyph\":{\"id\":\"2788\",\"type\":\"Circle\"},\"hover_glyph\":null,\"muted_glyph\":null,\"nonselection_glyph\":{\"id\":\"2789\",\"type\":\"Circle\"},\"selection_glyph\":null,\"view\":{\"id\":\"2791\",\"type\":\"CDSView\"}},\"id\":\"2790\",\"type\":\"GlyphRenderer\"},{\"attributes\":{},\"id\":\"2766\",\"type\":\"PanTool\"},{\"attributes\":{},\"id\":\"2794\",\"type\":\"BasicTickFormatter\"},{\"attributes\":{},\"id\":\"2767\",\"type\":\"WheelZoomTool\"},{\"attributes\":{\"overlay\":{\"id\":\"2774\",\"type\":\"BoxAnnotation\"}},\"id\":\"2768\",\"type\":\"BoxZoomTool\"},{\"attributes\":{},\"id\":\"2796\",\"type\":\"BasicTickFormatter\"},{\"attributes\":{\"below\":[{\"id\":\"2756\",\"type\":\"LinearAxis\"}],\"left\":[{\"id\":\"2761\",\"type\":\"LinearAxis\"}],\"plot_height\":500,\"plot_width\":700,\"renderers\":[{\"id\":\"2756\",\"type\":\"LinearAxis\"},{\"id\":\"2760\",\"type\":\"Grid\"},{\"id\":\"2761\",\"type\":\"LinearAxis\"},{\"id\":\"2765\",\"type\":\"Grid\"},{\"id\":\"2774\",\"type\":\"BoxAnnotation\"},{\"id\":\"2784\",\"type\":\"GlyphRenderer\"},{\"id\":\"2800\",\"type\":\"Legend\"},{\"id\":\"2790\",\"type\":\"GlyphRenderer\"}],\"title\":{\"id\":\"2745\",\"type\":\"Title\"},\"toolbar\":{\"id\":\"2772\",\"type\":\"Toolbar\"},\"x_range\":{\"id\":\"2748\",\"type\":\"Range1d\"},\"x_scale\":{\"id\":\"2752\",\"type\":\"LinearScale\"},\"y_range\":{\"id\":\"2750\",\"type\":\"Range1d\"},\"y_scale\":{\"id\":\"2754\",\"type\":\"LinearScale\"}},\"id\":\"2746\",\"subtype\":\"Figure\",\"type\":\"Plot\"},{\"attributes\":{},\"id\":\"2769\",\"type\":\"SaveTool\"},{\"attributes\":{\"plot\":null,\"text\":\"Gapminder Data for 1970\"},\"id\":\"2745\",\"type\":\"Title\"},{\"attributes\":{},\"id\":\"2770\",\"type\":\"ResetTool\"},{\"attributes\":{\"callback\":null,\"data\":{\"country\":[\"Afghanistan\",\"Albania\",\"Algeria\",\"Angola\",\"Antigua and Barbuda\",\"Argentina\",\"Armenia\",\"Aruba\",\"Australia\",\"Austria\",\"Azerbaijan\",\"Bahamas\",\"Bahrain\",\"Bangladesh\",\"Barbados\",\"Belarus\",\"Belgium\",\"Belize\",\"Benin\",\"Bhutan\",\"Bolivia\",\"Bosnia and Herzegovina\",\"Botswana\",\"Brazil\",\"Brunei\",\"Bulgaria\",\"Burkina Faso\",\"Burundi\",\"Cambodia\",\"Cameroon\",\"Canada\",\"Cape Verde\",\"Central African Rep.\",\"Chad\",\"Channel Islands\",\"Chile\",\"China\",\"Colombia\",\"Comoros\",\"Congo, Dem. Rep.\",\"Congo, Rep.\",\"Costa Rica\",\"Cote d'Ivoire\",\"Croatia\",\"Cuba\",\"Cyprus\",\"Czech Rep.\",\"Denmark\",\"Djibouti\",\"Dominican Rep.\",\"Ecuador\",\"Egypt\",\"El Salvador\",\"Equatorial Guinea\",\"Eritrea\",\"Estonia\",\"Ethiopia\",\"Fiji\",\"Finland\",\"France\",\"French Guiana\",\"French Polynesia\",\"Gabon\",\"Gambia\",\"Georgia\",\"Germany\",\"Ghana\",\"Greece\",\"Greenland\",\"Grenada\",\"Guadeloupe\",\"Guam\",\"Guatemala\",\"Guinea\",\"Guinea-Bissau\",\"Guyana\",\"Haiti\",\"Honduras\",\"Hong Kong, China\",\"Hungary\",\"Iceland\",\"India\",\"Indonesia\",\"Iran\",\"Iraq\",\"Ireland\",\"Israel\",\"Italy\",\"Jamaica\",\"Japan\",\"Jordan\",\"Kazakhstan\",\"Kenya\",\"Kiribati\",\"Korea, Dem. Rep.\",\"Korea, Rep.\",\"Kuwait\",\"Kyrgyzstan\",\"Laos\",\"Latvia\",\"Lebanon\",\"Lesotho\",\"Liberia\",\"Libya\",\"Lithuania\",\"Luxembourg\",\"Macao, China\",\"Macedonia, FYR\",\"Madagascar\",\"Malawi\",\"Malaysia\",\"Maldives\",\"Mali\",\"Malta\",\"Martinique\",\"Mauritania\",\"Mauritius\",\"Mayotte\",\"Mexico\",\"Micronesia, Fed. Sts.\",\"Moldova\",\"Mongolia\",\"Montenegro\",\"Morocco\",\"Mozambique\",\"Myanmar\",\"Namibia\",\"Nepal\",\"Netherlands\",\"Netherlands Antilles\",\"New Caledonia\",\"New Zealand\",\"Nicaragua\",\"Niger\",\"Nigeria\",\"Norway\",\"Oman\",\"Pakistan\",\"Panama\",\"Papua New Guinea\",\"Paraguay\",\"Peru\",\"Philippines\",\"Poland\",\"Portugal\",\"Puerto Rico\",\"Qatar\",\"Reunion\",\"Romania\",\"Russia\",\"Rwanda\",\"Saint Lucia\",\"Saint Vincent and the Grenadines\",\"Samoa\",\"Sao Tome and Principe\",\"Saudi Arabia\",\"Senegal\",\"Serbia\",\"Seychelles\",\"Sierra Leone\",\"Singapore\",\"Slovak Republic\",\"Slovenia\",\"Solomon Islands\",\"Somalia\",\"South Africa\",\"South Sudan\",\"Spain\",\"Sri Lanka\",\"Sudan\",\"Suriname\",\"Swaziland\",\"Sweden\",\"Switzerland\",\"Syria\",\"Taiwan\",\"Tajikistan\",\"Tanzania\",\"Thailand\",\"Timor-Leste\",\"Togo\",\"Tonga\",\"Trinidad and Tobago\",\"Tunisia\",\"Turkey\",\"Turkmenistan\",\"Uganda\",\"Ukraine\",\"United Arab Emirates\",\"United Kingdom\",\"United States\",\"Uruguay\",\"Uzbekistan\",\"Vanuatu\",\"Venezuela\",\"Vietnam\",\"Virgin Islands (U.S.)\",\"West Bank and Gaza\",\"Western Sahara\",\"Yemen, Rep.\",\"Zambia\",\"Zimbabwe\"],\"pop\":{\"__ndarray__\":\"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\",\"dtype\":\"float64\",\"shape\":[202]},\"region\":[\"South Asia\",\"Europe & Central Asia\",\"Middle East & North Africa\",\"Sub-Saharan Africa\",\"America\",\"America\",\"Europe & Central Asia\",\"America\",\"East Asia & Pacific\",\"Europe & Central Asia\",\"Europe & Central Asia\",\"America\",\"Middle East & North Africa\",\"South Asia\",\"America\",\"Europe & Central Asia\",\"Europe & Central Asia\",\"America\",\"Sub-Saharan Africa\",\"South Asia\",\"America\",\"Europe & Central Asia\",\"Sub-Saharan Africa\",\"America\",\"East Asia & Pacific\",\"Europe & Central Asia\",\"Sub-Saharan Africa\",\"Sub-Saharan Africa\",\"East Asia & Pacific\",\"Sub-Saharan Africa\",\"America\",\"Sub-Saharan Africa\",\"Sub-Saharan Africa\",\"Sub-Saharan Africa\",\"Europe & Central Asia\",\"America\",\"East Asia & Pacific\",\"America\",\"Sub-Saharan Africa\",\"Sub-Saharan Africa\",\"Sub-Saharan Africa\",\"America\",\"Sub-Saharan Africa\",\"Europe & Central Asia\",\"America\",\"Europe & Central Asia\",\"Europe & Central Asia\",\"Europe & Central Asia\",\"Middle East & North Africa\",\"America\",\"America\",\"Middle East & North Africa\",\"America\",\"Sub-Saharan Africa\",\"Sub-Saharan Africa\",\"Europe & Central Asia\",\"Sub-Saharan Africa\",\"East Asia & Pacific\",\"Europe & Central Asia\",\"Europe & Central Asia\",\"America\",\"East Asia & Pacific\",\"Sub-Saharan Africa\",\"Sub-Saharan Africa\",\"Europe & Central Asia\",\"Europe & Central Asia\",\"Sub-Saharan Africa\",\"Europe & Central Asia\",\"Europe & Central Asia\",\"America\",\"America\",\"East Asia & Pacific\",\"America\",\"Sub-Saharan Africa\",\"Sub-Saharan Africa\",\"America\",\"America\",\"America\",\"East Asia & Pacific\",\"Europe & Central Asia\",\"Europe & Central Asia\",\"South Asia\",\"East Asia & Pacific\",\"Middle East & North Africa\",\"Middle East & North Africa\",\"Europe & Central Asia\",\"Middle East & North Africa\",\"Europe & Central Asia\",\"America\",\"East Asia & Pacific\",\"Middle East & North Africa\",\"Europe & Central Asia\",\"Sub-Saharan Africa\",\"East Asia & Pacific\",\"East Asia & Pacific\",\"East Asia & Pacific\",\"Middle East & North Africa\",\"Europe & Central Asia\",\"East Asia & Pacific\",\"Europe & Central Asia\",\"Middle East & North Africa\",\"Sub-Saharan Africa\",\"Sub-Saharan Africa\",\"Middle East & North Africa\",\"Europe & Central Asia\",\"Europe & Central Asia\",\"East Asia & Pacific\",\"Europe & Central Asia\",\"Sub-Saharan Africa\",\"Sub-Saharan Africa\",\"East Asia & Pacific\",\"South Asia\",\"Sub-Saharan Africa\",\"Europe & Central Asia\",\"America\",\"Sub-Saharan Africa\",\"Sub-Saharan Africa\",\"Sub-Saharan Africa\",\"America\",\"East Asia & Pacific\",\"Europe & Central Asia\",\"East Asia & Pacific\",\"Europe & Central Asia\",\"Middle East & North Africa\",\"Sub-Saharan Africa\",\"East Asia & Pacific\",\"Sub-Saharan Africa\",\"South Asia\",\"Europe & Central Asia\",\"America\",\"East Asia & Pacific\",\"East Asia & Pacific\",\"America\",\"Sub-Saharan Africa\",\"Sub-Saharan Africa\",\"Europe & Central Asia\",\"Middle East & North Africa\",\"South Asia\",\"America\",\"East Asia & Pacific\",\"America\",\"America\",\"East Asia & Pacific\",\"Europe & Central Asia\",\"Europe & Central Asia\",\"America\",\"Middle East & North Africa\",\"Sub-Saharan Africa\",\"Europe & Central Asia\",\"Europe & Central Asia\",\"Sub-Saharan Africa\",\"America\",\"America\",\"East Asia & Pacific\",\"Sub-Saharan Africa\",\"Middle East & North Africa\",\"Sub-Saharan Africa\",\"Europe & Central Asia\",\"Sub-Saharan Africa\",\"Sub-Saharan Africa\",\"East Asia & Pacific\",\"Europe & Central Asia\",\"Europe & Central Asia\",\"East Asia & Pacific\",\"Sub-Saharan Africa\",\"Sub-Saharan Africa\",\"Sub-Saharan Africa\",\"Europe & Central Asia\",\"South Asia\",\"Sub-Saharan Africa\",\"America\",\"Sub-Saharan Africa\",\"Europe & Central Asia\",\"Europe & Central Asia\",\"Middle East & North Africa\",\"East Asia & Pacific\",\"Europe & Central Asia\",\"Sub-Saharan Africa\",\"East Asia & Pacific\",\"East Asia & Pacific\",\"Sub-Saharan Africa\",\"East Asia & Pacific\",\"America\",\"Middle East & North Africa\",\"Europe & Central Asia\",\"Europe & Central Asia\",\"Sub-Saharan Africa\",\"Europe & Central Asia\",\"Middle East & North Africa\",\"Europe & Central Asia\",\"America\",\"America\",\"Europe & Central Asia\",\"East Asia & Pacific\",\"America\",\"East Asia & Pacific\",\"America\",\"Middle East & North Africa\",\"Middle East & North Africa\",\"Middle East & North Africa\",\"Sub-Saharan Africa\",\"Sub-Saharan Africa\"],\"x\":{\"__ndarray__\":\"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\",\"dtype\":\"float64\",\"shape\":[202]},\"y\":{\"__ndarray__\":\"vp8aL91UQkDqJjEIrLxQQAMrhxbZLklAarx0kxiEQkC28/3UeHlQQNv5fmq8nFBA/tR46SaJUUApXI/C9UhRQKRwPQrXs1FA16NwPQqHUUAK16NwPUJQQDEIrBxafFBAmpmZmZm5T0AK16NwPcpHQNEi2/l+SlBAFK5H4XoUUkCuR+F6FL5RQE5iEFg5ZFBAcT0K16MwRUDwp8ZLN3lCQFK4HoXr4UZA3SQGgZWLUED91HjpJmFLQB+F61G4bk1AEVg5tMjOUEDhehSuR9FRQFyPwvUojENAtMh2vp/qRUDb+X5qvNREQHe+nxovDUdAmpmZmZkpUkAlBoGVQxtKQNNNYhBY+URA7nw/NV6qREDrJjEIrPRRQFCNl24SA09ATx4Wak1TT0DdJAaBlXNOQLKd76fG20dATDeJQWD1RUBSuB6F67FKQKabxCCwslBAf2q8dJPYRUCq8dJNYhhRQJZDi2znc1FAwJ8aL90kUkBSuB6F62FRQLgehetRWFJAFK5H4XqUSEDsUbgehTtNQGiR7Xw/5UxA9P3UeOkWSkA7tMh2vj9MQKrx0k1i4ENAwcqhRbZDREApXI/C9ZhRQLbz/dR4eUVABFYOLbLtTUDXo3A9CpdRQArXo3A9ClJAIbByaJFVUEBkO99PjRdOQPYoXI/CVUdAtvP91HjpQkB3vp8aL91QQMZ5fugQrVFACKwcWmSrSEDb+X5qvLxRQEtgzaKrYVBAlkOLbOfrT0ACK4cW2T5QQO18PzVealBAaJHtfD8FSkCHFtnO91NCQPT91HjpBkZA8KfGSze5TUAmMQisHJpHQOF6FK5HQUpADAIrhxb5UUCPwvUoXE9RQKRwPQrXc1JAYLpJDAJrSECNbOf7qTFKQCGwcmiRbUlAtvP91HgZTUApXI/C9bhRQKRwPQrXy1FACtejcD3qUUB/arx0kxBRQBSuR+F6BFJA2s73U+MVTkBMN4lBYEVPQLKd76fGG0pAvHSTGAS2SUCJFtnO99NNQNrO91PjlU5AAiuHFtl2UEAdWmQ73z9OQFTjpZvEIEdAH4XrUbiOUUA/NV66SYRQQIkW2c73g0hAjZduEoOgQ0Atsp3vpwZMQIXrUbgexVFAhetRuB5lUUDqJjEIrExRQCUGgZVDk1BAppvEILBiRkBSuB6F61FEQAaBlUOLHFBA3SQGgZUTRkCMbOf7qTFAQClcj8L1oFFAyXa+nxp/UEBxPQrXo5BIQAaBlUOLnE9AO99PjZcuT0CsHFpkO69OQP3UeOkm0U5AexSuR+FCUEBYObTIdq5LQFYOLbKdd1FAfT81XrpJSkBWDi2ynZ9DQFg5tMh2fklAZBBYObRISkAQWDm0yDZFQGZmZmZmZlJA6Pup8dJNUUC8dJMYBDZPQIXrUbge1VFAukkMAivXSkBmZmZmZiZCQAAAAAAAgEJAhetRuB6FUkBI4XoUridJQARWDi2yvUpA/tR46SZhUEDFILByaAFHQLpJDAIrX1BACtejcD26SkDRItv5fmpOQEjhehSud1FAexSuR+HKUECF61G4HuVRQMuhRbbzFVFAZDvfT42HT0Cq8dJNYghRQNejcD0KN1FA+n5qvHQzRkAZBFYOLYJPQFg5tMh2RlBA+n5qvHRjS0DLoUW28+1LQH9qvHSTWEpAkxgEVg6dQ0CsHFpkO+9QQFCNl24Sa1BAsHJoke1MQUATg8DKoQVRQI/C9Shcb1FAbef7qfFaUUCq8dJNYiBLQLTIdr6fekRAmpmZmZlpSkAv3SQGgeVBQI/C9ShcD1JAne+nxksHUEAhsHJokR1KQPyp8dJNok9A9ihcj8IFSEDNzMzMzKxSQClcj8L1SFJAokW28/2UTUCamZmZmSlRQMdLN4lBEE5ACKwcWmRbR0DfT42XbsJNQPyp8dJNwkNAZBBYObRIR0Dy0k1iEDhQQHe+nxovRVBAGy/dJAaRSUBoke18PyVKQJZDi2znO01AmpmZmZlpSEBI4XoUrrdRQDvfT42Xzk5AAAAAAAAAUkB7FK5H4bpRQHNoke18J1FACKwcWmR7T0CsHFpkOy9KQNv5fmq8PFBAeekmMQjMTUBaZDvfT+1QQJHtfD813ktAf2q8dJMIRUBKDAIrh5ZEQBKDwMqhhUhAL90kBoF1S0A=\",\"dtype\":\"float64\",\"shape\":[202]}},\"selected\":{\"id\":\"2798\",\"type\":\"Selection\"},\"selection_policy\":{\"id\":\"2797\",\"type\":\"UnionRenderers\"}},\"id\":\"2744\",\"type\":\"ColumnDataSource\"},{\"attributes\":{},\"id\":\"2771\",\"type\":\"HelpTool\"},{\"attributes\":{\"active_drag\":\"auto\",\"active_inspect\":\"auto\",\"active_multi\":null,\"active_scroll\":\"auto\",\"active_tap\":\"auto\",\"tools\":[{\"id\":\"2766\",\"type\":\"PanTool\"},{\"id\":\"2767\",\"type\":\"WheelZoomTool\"},{\"id\":\"2768\",\"type\":\"BoxZoomTool\"},{\"id\":\"2769\",\"type\":\"SaveTool\"},{\"id\":\"2770\",\"type\":\"ResetTool\"},{\"id\":\"2771\",\"type\":\"HelpTool\"},{\"id\":\"2805\",\"type\":\"HoverTool\"}]},\"id\":\"2772\",\"type\":\"Toolbar\"},{\"attributes\":{\"callback\":null,\"end\":83.58,\"start\":6.0},\"id\":\"2750\",\"type\":\"Range1d\"},{\"attributes\":{\"fill_alpha\":{\"value\":0.1},\"fill_color\":{\"value\":\"#1f77b4\"},\"line_alpha\":{\"value\":0.1},\"line_color\":{\"value\":\"#1f77b4\"},\"x\":{\"field\":\"x\"},\"y\":{\"field\":\"y\"}},\"id\":\"2783\",\"type\":\"Circle\"},{\"attributes\":{},\"id\":\"2752\",\"type\":\"LinearScale\"},{\"attributes\":{\"bottom_units\":\"screen\",\"fill_alpha\":{\"value\":0.5},\"fill_color\":{\"value\":\"lightgrey\"},\"left_units\":\"screen\",\"level\":\"overlay\",\"line_alpha\":{\"value\":1.0},\"line_color\":{\"value\":\"black\"},\"line_dash\":[4,4],\"line_width\":{\"value\":2},\"plot\":null,\"render_mode\":\"css\",\"right_units\":\"screen\",\"top_units\":\"screen\"},\"id\":\"2774\",\"type\":\"BoxAnnotation\"},{\"attributes\":{},\"id\":\"2754\",\"type\":\"LinearScale\"},{\"attributes\":{\"data_source\":{\"id\":\"2744\",\"type\":\"ColumnDataSource\"},\"glyph\":{\"id\":\"2782\",\"type\":\"Circle\"},\"hover_glyph\":null,\"muted_glyph\":null,\"nonselection_glyph\":{\"id\":\"2783\",\"type\":\"Circle\"},\"selection_glyph\":null,\"view\":{\"id\":\"2785\",\"type\":\"CDSView\"}},\"id\":\"2784\",\"type\":\"GlyphRenderer\"}],\"root_ids\":[\"3307\"]},\"title\":\"Bokeh Application\",\"version\":\"1.0.2\"}};\n",
       "  var render_items = [{\"docid\":\"3725fadc-d240-4ba8-a8b3-b1de7bee5c50\",\"notebook_comms_target\":\"3435\",\"roots\":{\"3307\":\"19c17754-8017-4375-ae9b-1030236961eb\"}}];\n",
       "  root.Bokeh.embed.embed_items_notebook(docs_json, render_items);\n",
       "\n",
       "  }\n",
       "  if (root.Bokeh !== undefined) {\n",
       "    embed_document(root);\n",
       "  } else {\n",
       "    var attempts = 0;\n",
       "    var timer = setInterval(function(root) {\n",
       "      if (root.Bokeh !== undefined) {\n",
       "        embed_document(root);\n",
       "        clearInterval(timer);\n",
       "      }\n",
       "      attempts++;\n",
       "      if (attempts > 100) {\n",
       "        console.log(\"Bokeh: ERROR: Unable to run BokehJS code because BokehJS library is missing\");\n",
       "        clearInterval(timer);\n",
       "      }\n",
       "    }, 10, root)\n",
       "  }\n",
       "})(window);"
      ],
      "application/vnd.bokehjs_exec.v0+json": ""
     },
     "metadata": {
      "application/vnd.bokehjs_exec.v0+json": {
       "id": "3307"
      }
     },
     "output_type": "display_data"
    },
    {
     "data": {
      "text/html": [
       "<p><code>&lt;Bokeh Notebook handle for <strong>In[3]</strong>&gt;</code></p>"
      ],
      "text/plain": [
       "<bokeh.io.notebook.CommsHandle at 0x1f25ded5cc0>"
      ]
     },
     "execution_count": 41,
     "metadata": {},
     "output_type": "execute_result"
    }
   ],
   "source": [
    "from bokeh.models import Select\n",
    "\n",
    "\n",
    "def update_plot(attr, old, new):\n",
    "    # Assign the value of the slider: yr\n",
    "    # Read current value of slider and 2 dropdowns    \n",
    "    yr = slider.value\n",
    "    x=x_select.value\n",
    "    y=y_select.value\n",
    "    #label axis as plot\n",
    "    plot.xaxis.axis_label=x\n",
    "    plot.yaxis.axis_label=y\n",
    "    \n",
    "    # Set new_data\n",
    "    new_data = {\n",
    "        'x'       : data.loc[yr].fertility,\n",
    "        'y'       : data.loc[yr].life,\n",
    "        'country' : data.loc[yr].Country,\n",
    "        'pop'     : (data.loc[yr].population / 20000000) + 2,\n",
    "        'region'  : data.loc[yr].region,\n",
    "    }\n",
    "    # Assign new_data to: source.data\n",
    "    source.data = new_data\n",
    "    #set the range of all axes\n",
    "    plot.x_range.start=min(data[x])\n",
    "    plot.x_range.end=max(data[x])\n",
    "    plot.y_range.start=min(data[y])\n",
    "    plot.x_range.end=max(data[y])\n",
    "    \n",
    "    # Add title to figure: plot.title.text\n",
    "    plot.title.text = 'Gapminder data for %d' % yr\n",
    "    \n",
    "    push_notebook()\n",
    "\n",
    "# Make a slider object: slider\n",
    "slider = Slider(title='Year', start=1970, end=2010, step=1, value=1970)\n",
    "\n",
    "# Attach the callback to the 'value' property of slider\n",
    "slider.on_change('value',update_plot)\n",
    "\n",
    "# create a dropdown\n",
    "x_select=Select(options=['fertility', 'life', 'child_mortality', 'gdp'], value='fertility', title='x_axisdata')\n",
    "x_select.on_change('value',update_plot)\n",
    "y_select=Select(options=['fertility','life', 'child_mortality','gdp'], value='fertility',title='y_axisdata')\n",
    "y_select.on_change('value',update_plot)\n",
    "\n",
    "# Make a row layout of widgetbox(slider) and plot and add it to the current document\n",
    "layout = row(widgetbox(slider, x_select, y_select), plot)\n",
    "curdoc().add_root(layout)\n",
    "\n",
    "show(layout, notebook_handle=True)\n"
   ]
  },
  {
   "cell_type": "code",
   "execution_count": null,
   "metadata": {},
   "outputs": [],
   "source": []
  }
 ],
 "metadata": {
  "kernelspec": {
   "display_name": "Python 3",
   "language": "python",
   "name": "python3"
  },
  "language_info": {
   "codemirror_mode": {
    "name": "ipython",
    "version": 3
   },
   "file_extension": ".py",
   "mimetype": "text/x-python",
   "name": "python",
   "nbconvert_exporter": "python",
   "pygments_lexer": "ipython3",
   "version": "3.7.1"
  }
 },
 "nbformat": 4,
 "nbformat_minor": 2
}
